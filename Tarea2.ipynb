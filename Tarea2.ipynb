{
 "cells": [
  {
   "cell_type": "markdown",
   "metadata": {},
   "source": [
    "# Tarea 2\n",
    "## Diplomado en Tecnologías Cuánticas"
   ]
  },
  {
   "cell_type": "code",
   "execution_count": 2,
   "metadata": {},
   "outputs": [],
   "source": [
    "import numpy as np\n",
    "import pandas as pd\n",
    "import scipy as sp\n",
    "import matplotlib as plt\n",
    "import seaborn as sns\n",
    "\n",
    "from scipy import sparse\n",
    "from scipy.sparse.linalg import eigsh\n",
    "from pylanczos import PyLanczos"
   ]
  },
  {
   "cell_type": "markdown",
   "metadata": {},
   "source": [
    "---\n",
    "# DMRG"
   ]
  },
  {
   "cell_type": "code",
   "execution_count": 3,
   "metadata": {},
   "outputs": [],
   "source": [
    "\n",
    "# * Setting basic quantities\n",
    "\n",
    "## * Spin Operators\n",
    "sx = sparse.csc_matrix(np.matrix( \n",
    "    [[0,1],[1,0]]\n",
    "))\n",
    "\n",
    "sy = sparse.csc_matrix(np.matrix(\n",
    "    [[0,-1j],[1j,0]]\n",
    "))\n",
    "\n",
    "sz = sparse.csc_matrix(np.matrix(\n",
    "    [[1,0],[0,-1]]\n",
    "))\n",
    "\n",
    "Spins = [sx,sy,sz] # Vector Matrix, for camputation purposes\n",
    "\n",
    "## * Idetity Matrix\n",
    "Id = sparse.csc_matrix(np.identity(2))\n",
    "\n",
    "## * Dimension threshold\n",
    "D = 10\n",
    "\n",
    "## * Number of Iterations\n",
    "It = 50\n",
    "\n",
    "\n",
    "## * Model's parameters\n",
    "\n",
    "def w(shape): # ! Considering a general thermal bath\n",
    "\n",
    "    # * The parameters of the algorithm quantify the field interaction\n",
    "    # * strenght as well as the interaction between spins.\n",
    "    # * In the meantime I'll set them random values between 0 & 1\n",
    "    \n",
    "  return np.random.rand(shape)[0]\n",
    "\n",
    "# TODO: I want to turn this into several classes\n",
    "\n",
    "def H_seed():\n",
    "\n",
    "    H_seed = {}\n",
    "    \n",
    "    # * Seed System Operators\n",
    "\n",
    "    H_seed['Id_left'] = Id.copy()\n",
    "    H_seed['Id_right'] = Id.copy()\n",
    "\n",
    "    # * No interaction at seed system\n",
    "    H_seed['H_left'] = Id * 0\n",
    "    H_seed['H_right'] = Id * 0\n",
    "\n",
    "    # * Spin Edges\n",
    "    H_seed['S_left'] = Spins.copy()\n",
    "    H_seed['S_right'] = Spins.copy()\n",
    "\n",
    "    return H_seed\n",
    "    \n",
    "\n",
    "def H_growth(H_old): # * System merge and diagonalization\n",
    "\n",
    "    H = H_old.copy()\n",
    "\n",
    "    ## * Seting variables for readability\n",
    "    Id_sub_left = H['Id_left']\n",
    "    Id_sub_right = H['Id_right']\n",
    "\n",
    "    H_sub_left = H['H_left']\n",
    "    H_sub_right = H['H_right']\n",
    "\n",
    "    S_sub_left = H['S_left']\n",
    "    S_sub_right = H['S_right']\n",
    "\n",
    "    ## * Spin interactions\n",
    "    ### * Left sub-system\n",
    "    Id_left = sp.sparse.kron(Id_sub_left,Id)\n",
    "    H_left = sp.sparse.kron(H_sub_left, Id)\n",
    "    H_int_left = [[w(1)*(sp.sparse.kron(i,j)) for i in S_sub_left] for j in Spins] # Spin interactions\n",
    "\n",
    "    ### * Right sub-system\n",
    "    Id_right = sp.sparse.kron(Id,Id_sub_right)\n",
    "    H_right = sp.sparse.kron(Id, H_sub_right)\n",
    "    H_int_right = [[w(1)*(sp.sparse.kron(i,j)) for i in Spins] for j in S_sub_right] # Spin interactions\n",
    "\n",
    "    #### * Dropping terms not considered in the model\n",
    "    for i in (0,1):\n",
    "        H_int_left[2][i] = H_int_left[2][i]*0\n",
    "        H_int_left[i][2] = H_int_left[i][2]*0\n",
    "        H_int_right[i][2] = H_int_right[i][2]*0\n",
    "        H_int_right[2][i] = H_int_right[2][i]*0\n",
    "\n",
    "    ### * Computing left & right Interaction Hamiltonians\n",
    "    H_left += np.sum(H_int_left)\n",
    "    H_right += np.sum(H_int_right)\n",
    "\n",
    "    ## * Updating Spin interactions\n",
    "    S_left = [w(1)*(sp.sparse.kron(Id_sub_left,i)) for i in Spins]\n",
    "    S_right = [w(1)*(sp.sparse.kron(i,Id_sub_right)) for i in Spins]\n",
    "\n",
    "    ## * Joining left & right systems\n",
    "    H_system = sp.sparse.kron(H_left,Id_right) + sp.sparse.kron(Id_left, H_right)\n",
    "\n",
    "    Sz_system = sp.sparse.kron(S_left[2],S_right[2]) # Sz interaction\n",
    "\n",
    "    Sxy_system = sum([sp.sparse.kron(i,j) for i,j in zip(S_left[:2],S_right[:2])]) # Sx,Sy interactions for left system\n",
    "\n",
    "    H_system += Sz_system + Sxy_system\n",
    "\n",
    "    ## * Exact diagonalization\n",
    "    e_val,e_vec = eigsh(H_system) # TODO: Measure if Lanczos is faster\n",
    "    e_vec = sparse.csc_matrix(e_vec)\n",
    "\n",
    "    ## * Vector state\n",
    "    psi = e_vec[:,0]\n",
    "\n",
    "    ### * Updating dict\n",
    "\n",
    "    H['Id_left'] = Id_left\n",
    "    H['Id_right'] = Id_right\n",
    "\n",
    "    H['H_left'] = H_left\n",
    "    H['H_right'] = H_right\n",
    "\n",
    "    H['S_left'] = S_left\n",
    "    H['S_right'] = S_right\n",
    "\n",
    "    H['H_system'] = H_system\n",
    "\n",
    "    H['psi'] = psi\n",
    "\n",
    "    return H\n",
    "\n",
    "\n",
    "def DMRG(H_old): # * Same procedure for L & R systems\n",
    "    H = H_old.copy()\n",
    "\n",
    "    ## * Calling System elements\n",
    "    Id_sub_left = H['Id_left']\n",
    "    Id_sub_right = H['Id_right']\n",
    "\n",
    "    H_sub_left = H['H_left']\n",
    "    H_sub_right = H['H_right']\n",
    "\n",
    "    S_sub_left = H['S_left']\n",
    "    S_sub_right = H['S_right']\n",
    "\n",
    "    psi = H['psi']\n",
    "\n",
    "    ## * Density Matrix\n",
    "    dim_l_sys = np.shape(Id_sub_left)[0]\n",
    "    dim_r_sys = np.shape(Id_sub_right)[0]\n",
    "    rho = np.reshape(psi,(dim_l_sys,dim_r_sys))\n",
    "\n",
    "    ### * Partial Traces of rho\n",
    "    sigma_left = rho @ rho.conj().T\n",
    "    sigma_right = rho.T @ rho.conj()\n",
    "\n",
    "    ## * Rotation Matrix Definition\n",
    "    def O_matrix(density_matrix):\n",
    "        auto_val, auto_vec = eigsh(density_matrix.toarray())\n",
    "\n",
    "        # if np.shape(density_matrix)[0] == 4:\n",
    "        #     auto_val, auto_vec = eigsh(density_matrix.toarray())\n",
    "        # else:\n",
    "        #     auto_val, auto_vec = eigsh(density_matrix)\n",
    "\n",
    "        threshold = min(D, len(auto_val))\n",
    "        O = sparse.csc_matrix(auto_vec[-1-threshold:-1,:][::-1,:]) # * Adding highest e-vectors\n",
    "\n",
    "        return O\n",
    "\n",
    "    O_left = O_matrix(sigma_left)\n",
    "    O_right = O_matrix(sigma_right)\n",
    "\n",
    "    ## * Updating Sub-Systems\n",
    "    Id_left = O_left @ Id_sub_left @ O_left.conj().T\n",
    "    Id_right = O_right @Id_sub_right @ O_right.conj().T\n",
    "\n",
    "    H_left = O_left @ H_sub_left @ O_left.conj().T\n",
    "    H_right = O_right @ H_sub_right @ O_right.conj().T\n",
    "\n",
    "    S_left = [O_left @ s @ O_left.conj().T for s in S_sub_left]\n",
    "    S_right = [O_right @ s @ O_right.conj().T for s in S_sub_right]\n",
    "\n",
    "    ## * Updating dict\n",
    "    H['Id_left'] = Id_left\n",
    "    H['Id_right'] = Id_right\n",
    "\n",
    "    H['H_left'] = H_left\n",
    "    H['H_right'] = H_right\n",
    "\n",
    "    H['S_left'] = S_left\n",
    "    H['S_right'] = S_right\n",
    "\n",
    "    return H"
   ]
  },
  {
   "cell_type": "code",
   "execution_count": 4,
   "metadata": {},
   "outputs": [],
   "source": [
    "def iterations(num):\n",
    "    H = H_seed()\n",
    "\n",
    "    for i in range(num):\n",
    "        H = DMRG(H_growth(H))\n",
    "        i += 1\n",
    "\n",
    "    return H"
   ]
  },
  {
   "cell_type": "code",
   "execution_count": 5,
   "metadata": {},
   "outputs": [
    {
     "name": "stderr",
     "output_type": "stream",
     "text": [
      "/home/michdata/anaconda3/lib/python3.12/site-packages/scipy/sparse/linalg/_eigen/arpack/arpack.py:1577: RuntimeWarning: k >= N - 1 for N * N square matrix. Attempting to use scipy.linalg.eig instead.\n",
      "  ret = eigs(A, k, M=M, sigma=sigma, which=which, v0=v0,\n"
     ]
    },
    {
     "data": {
      "text/plain": [
       "<Axes: >"
      ]
     },
     "execution_count": 5,
     "metadata": {},
     "output_type": "execute_result"
    },
    {
     "data": {
      "image/png": "[encoded data removed]",
      "text/plain": [
       "<Figure size 640x480 with 2 Axes>"
      ]
     },
     "metadata": {},
     "output_type": "display_data"
    }
   ],
   "source": [
    "system = iterations(1)['H_system']\n",
    "sns.heatmap(\n",
    "    abs(system.toarray()),\n",
    "    annot = False,\n",
    "    cmap = 'RdYlGn'\n",
    ")"
   ]
  },
  {
   "cell_type": "code",
   "execution_count": 6,
   "metadata": {},
   "outputs": [
    {
     "name": "stderr",
     "output_type": "stream",
     "text": [
      "/home/michdata/anaconda3/lib/python3.12/site-packages/scipy/sparse/linalg/_eigen/arpack/arpack.py:1577: RuntimeWarning: k >= N - 1 for N * N square matrix. Attempting to use scipy.linalg.eig instead.\n",
      "  ret = eigs(A, k, M=M, sigma=sigma, which=which, v0=v0,\n"
     ]
    },
    {
     "data": {
      "text/plain": [
       "<Axes: >"
      ]
     },
     "execution_count": 6,
     "metadata": {},
     "output_type": "execute_result"
    },
    {
     "data": {
      "image/png": "[encoded data removed]",
      "text/plain": [
       "<Figure size 640x480 with 2 Axes>"
      ]
     },
     "metadata": {},
     "output_type": "display_data"
    }
   ],
   "source": [
    "system = iterations(2)['H_system']\n",
    "sns.heatmap(\n",
    "    abs(system.toarray()),\n",
    "    annot = False,\n",
    "    cmap = 'RdYlGn'\n",
    ")"
   ]
  },
  {
   "cell_type": "code",
   "execution_count": 21,
   "metadata": {},
   "outputs": [],
   "source": [
    "import numpy as np\n",
    "\n",
    "def numerov_solver(V, x0, xf, h):\n",
    "    # Define the spatial grid\n",
    "    x = np.arange(x0, xf + h, h)\n",
    "    \n",
    "    # Initialize the wavefunction array\n",
    "    psi = np.zeros_like(x)\n",
    "    \n",
    "    # Set the initial conditions\n",
    "    psi[0] = 0  # Initial value at x0\n",
    "    psi[1] = 1e-6  # Initial value at x0 - h\n",
    "    \n",
    "    # Iterate over the spatial grid\n",
    "    for i in range(1, len(x) - 1):\n",
    "        psi[i+1] = (psi[i] * (2 + (10/12) * h**2 * V(x[i])**2 ) - psi[i-1] * (1 - (1/12) * h**2 * V(x[i-1]))**2 ) / (1 - (1/12) * h**2 * V(x[i+1])**2 )\n",
    "    \n",
    "    return x, psi\n",
    "\n",
    "# Example usage\n",
    "x0 = 0  # Starting point\n",
    "xf = 10  # Ending point\n",
    "h = 0.1  # Step size\n",
    "om = 1  # Angular frequency\n",
    "V = lambda x: om*(x**4-2*x**2)  # Potential function\n",
    "\n",
    "x, psi = numerov_solver(V, x0, xf, h)"
   ]
  },
  {
   "cell_type": "code",
   "execution_count": 22,
   "metadata": {},
   "outputs": [
    {
     "data": {
      "text/plain": [
       "<Axes: >"
      ]
     },
     "execution_count": 22,
     "metadata": {},
     "output_type": "execute_result"
    },
    {
     "data": {
      "image/png": "[encoded data removed]",
      "text/plain": [
       "<Figure size 640x480 with 1 Axes>"
      ]
     },
     "metadata": {},
     "output_type": "display_data"
    }
   ],
   "source": [
    "sns.lineplot(\n",
    "    x = x,\n",
    "    y = psi\n",
    ")"
   ]
  }
 ],
 "metadata": {
  "kernelspec": {
   "display_name": "base",
   "language": "python",
   "name": "python3"
  },
  "language_info": {
   "codemirror_mode": {
    "name": "ipython",
    "version": 3
   },
   "file_extension": ".py",
   "mimetype": "text/x-python",
   "name": "python",
   "nbconvert_exporter": "python",
   "pygments_lexer": "ipython3",
   "version": "3.12.4"
  }
 },
 "nbformat": 4,
 "nbformat_minor": 2
}
